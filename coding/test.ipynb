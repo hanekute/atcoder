{
 "cells": [
  {
   "cell_type": "code",
   "execution_count": 6,
   "metadata": {},
   "outputs": [
    {
     "name": "stdout",
     "output_type": "stream",
     "text": [
      "(0, 1)\n",
      "(0, 2)\n",
      "(0, 3)\n",
      "(0, 4)\n",
      "(1, 2)\n",
      "(1, 3)\n",
      "(1, 4)\n",
      "(2, 3)\n",
      "(2, 4)\n",
      "(3, 4)\n"
     ]
    }
   ],
   "source": [
    "from itertools import combinations\n",
    "\n",
    "for x in combinations(range(5), 2):\n",
    "    print(x)\n"
   ]
  },
  {
   "cell_type": "code",
   "execution_count": 3,
   "metadata": {},
   "outputs": [
    {
     "name": "stdout",
     "output_type": "stream",
     "text": [
      "[1, 2, 4]\n",
      "[1, 2, 4]\n"
     ]
    }
   ],
   "source": [
    "a = [0, 1, 2]\n",
    "b = [0, 2, 4]\n",
    "a = [x + y for x, y in zip(a,b)]\n",
    "print(a)"
   ]
  },
  {
   "cell_type": "code",
   "execution_count": 3,
   "metadata": {},
   "outputs": [
    {
     "name": "stdout",
     "output_type": "stream",
     "text": [
      "\n",
      "False\n"
     ]
    }
   ],
   "source": [
    "s = 'a'\n",
    "ss = s[1:]\n",
    "print(ss)\n",
    "print('b' in ss)"
   ]
  },
  {
   "cell_type": "code",
   "execution_count": 4,
   "metadata": {},
   "outputs": [
    {
     "name": "stdout",
     "output_type": "stream",
     "text": [
      "00000000000000001000\n",
      "000aaa\n"
     ]
    }
   ],
   "source": [
    "i = 8\n",
    "print(f'{i:020b}')\n",
    "s = 'aaa'\n",
    "s = f'{s:0>6}'\n",
    "print(s)"
   ]
  },
  {
   "cell_type": "code",
   "execution_count": 1,
   "metadata": {},
   "outputs": [
    {
     "name": "stdout",
     "output_type": "stream",
     "text": [
      "(0, 1, 2, 3, 4, 5, 6, 7, 8)\n",
      "(0, 1, 2, 3, 4, 5, 6, 8, 7)\n",
      "(0, 1, 2, 3, 4, 5, 7, 6, 8)\n",
      "(0, 1, 2, 3, 4, 5, 7, 8, 6)\n",
      "(0, 1, 2, 3, 4, 5, 8, 6, 7)\n"
     ]
    }
   ],
   "source": [
    "from itertools import permutations\n",
    "count = 0\n",
    "for x in permutations(range(9)):\n",
    "    if count ==5:\n",
    "        break\n",
    "    print(x)\n",
    "    count += 1"
   ]
  },
  {
   "cell_type": "code",
   "execution_count": 3,
   "metadata": {},
   "outputs": [
    {
     "name": "stdout",
     "output_type": "stream",
     "text": [
      "1234\n",
      "1243\n",
      "1324\n",
      "1342\n",
      "1423\n",
      "1432\n",
      "2134\n",
      "2143\n",
      "2314\n",
      "2341\n",
      "2413\n",
      "2431\n",
      "3124\n",
      "3142\n",
      "3214\n",
      "3241\n",
      "3412\n",
      "3421\n",
      "4123\n",
      "4132\n",
      "4213\n",
      "4231\n",
      "4312\n",
      "4321\n"
     ]
    }
   ],
   "source": [
    "from itertools import permutations\n",
    "for x in permutations('1234'):\n",
    "    print(''.join(i for i in x))\n"
   ]
  },
  {
   "cell_type": "code",
   "execution_count": 4,
   "metadata": {},
   "outputs": [
    {
     "name": "stdout",
     "output_type": "stream",
     "text": [
      "[2, 3, 5, 7, 11, 13, 17, 19, 23, 29, 31, 37, 41, 43, 47]\n"
     ]
    }
   ],
   "source": [
    "def Eratosthenes(N):\n",
    "    # テーブル\n",
    "    isprime = [True] * (N+1)\n",
    "    primes = []\n",
    "\n",
    "    # 0, 1 は予めふるい落としておく\n",
    "    isprime[0], isprime[1] = False, False\n",
    "\n",
    "    # ふるい\n",
    "    for p in range(2, N+1):\n",
    "        # すでに合成数であるものはスキップする\n",
    "        if not isprime[p]:\n",
    "            continue\n",
    "\n",
    "        # p 以外の p の倍数から素数ラベルを剥奪\n",
    "        q = p * 2\n",
    "        while q <= N:\n",
    "            isprime[q] = False\n",
    "            q += p\n",
    "    for i in range(N + 1):\n",
    "        if isprime[i]:\n",
    "            primes.append(i)\n",
    "    # 1 以上 N 以下の整数が素数かどうか\n",
    "    return primes\n",
    "\n",
    "# 50 以下の素数をすべて求める\n",
    "isprime = Eratosthenes(50)\n",
    "print(isprime)"
   ]
  },
  {
   "cell_type": "code",
   "execution_count": 3,
   "metadata": {},
   "outputs": [
    {
     "name": "stdout",
     "output_type": "stream",
     "text": [
      "\n"
     ]
    }
   ],
   "source": [
    "s = '123456'\n",
    "a = s[:0]\n",
    "print(a)\n",
    "b = s[6:]"
   ]
  },
  {
   "cell_type": "code",
   "execution_count": 1,
   "metadata": {},
   "outputs": [
    {
     "name": "stdout",
     "output_type": "stream",
     "text": [
      "[10, 20, 30, 40, 50]\n",
      "10\n"
     ]
    }
   ],
   "source": [
    "l = [0, 10, 20, 30, 40, 50]\n",
    "\n",
    "del l[0]\n",
    "print(l)\n",
    "print(l[0])"
   ]
  }
 ],
 "metadata": {
  "kernelspec": {
   "display_name": "base",
   "language": "python",
   "name": "python3"
  },
  "language_info": {
   "codemirror_mode": {
    "name": "ipython",
    "version": 3
   },
   "file_extension": ".py",
   "mimetype": "text/x-python",
   "name": "python",
   "nbconvert_exporter": "python",
   "pygments_lexer": "ipython3",
   "version": "3.9.13"
  }
 },
 "nbformat": 4,
 "nbformat_minor": 2
}
